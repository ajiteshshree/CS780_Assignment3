{
 "cells": [
  {
   "cell_type": "markdown",
   "metadata": {},
   "source": [
    "# ASSIGNMENT 3\n",
    "# Submission Deadline: 20/03/2024 at 10 AM\n",
    "# Submission Link: https://forms.gle/b8s6xYHUYqTJtSNeA "
   ]
  },
  {
   "cell_type": "markdown",
   "metadata": {},
   "source": [
    "# Table of Contents\n",
    "\n",
    "1. [Provide Information](#Provide-Information)\n",
    "2. [Instructions](#Instructions)\n",
    "3. [Environment](#Environment)\n",
    "4. [Hyperparameters](#Hyperparameters)\n",
    "5. [Helper Functions](#helper)\n",
    "6. [Deep Value Based RL Agents](#deep-value-based)\n",
    "7. [Deep Policy Based RL Agents](#deep-policy-based)\n",
    "8. [Experiments to Run](#experiments)"
   ]
  },
  {
   "cell_type": "markdown",
   "metadata": {},
   "source": [
    "# Provide Information\n",
    "<a id=\"Provide-Information\"></a>"
   ]
  },
  {
   "cell_type": "markdown",
   "metadata": {},
   "source": [
    "Name: **YOUR FULL NAME GOES HERE**\n",
    "\n",
    "Roll No.: **YOUR ROLL NO**\n",
    "\n",
    "IITK EMail: **email@iitk.ac.in**"
   ]
  },
  {
   "cell_type": "markdown",
   "metadata": {},
   "source": [
    "# Instructions\n",
    "<a id=\"Instructions\"></a>\n"
   ]
  },
  {
   "cell_type": "markdown",
   "metadata": {},
   "source": [
    "**Read all the instructions below carefully before you start working on the assignment.**\n",
    "- The purpose of this course is that you learn RL and the best way to do that is by implementation and experimentation.\n",
    "- The assignment requires your to implement some algorithms and you are required report your findings after experimenting with those algorithms.\n",
    "- **You are required to submit ZIP file containing a Jupyter notebook (.ipynb), and an image folder. The notebook would include the code, graphs/plots of the experiments you run and your findings/observations. Image folder is the folder having plots, images, etc.**\n",
    "- In case you use any maths in your explanations, render it using latex in the Jupyter notebook.\n",
    "- You are expected to implement algorithms on your own and not copy it from other sources/class mates. Of course, you can refer to lecture slides.\n",
    "- If you use any reference or material (including code), please cite the source, else it will be considered plagiarism. But referring to other sources that directly solve the problems given in the assignment is not allowed. There is a limit to which you can refer to outside material.\n",
    "- This is an individual assignment.\n",
    "- In case your solution is found to have an overlap with solution by someone else (including external sources), all the parties involved will get zero in this and all future assignments plus further more penalties in the overall grade. We will check not just for lexical but also semantic overlap. Same applies for the code as well. Even an iota of cheating would NOT be tolerated. If you cheat one line or cheat one page the penalty would be same.\n",
    "- Be a smart agent, think long term, if you cheat we will discover it somehow, the price you would be paying is not worth it.\n",
    "- In case you are struggling with the assignment, seek help from TAs. Cheating is not an option! I respect honesty and would be lenient if you are not able to solve some questions due to difficulty in understanding. Remember we are there to help you out, seek help if something is difficult to understand.\n",
    "- The deadline for the submission is given above. Submit at least 30 minutes before the deadline, lot can happen at the last moment, your internet can fail, there can be a power failure, you can be abducted by aliens, etc.\n",
    "- You have to submit your assignment via the Google Form (link above)\n",
    "- The form would close after the deadline and we will not accept any solution. No reason what-so-ever would be accepted for not being able to submit before the deadline.\n",
    "- Since the assignment involves experimentation, reporting your results and observations, there is a lot of scope for creativity and innovation and presenting new perspectives. Such efforts would be highly appreciated and accordingly well rewarded. Be an exploratory agent!\n",
    "- Your code should be very well documented, there are marks for that.\n",
    "- In your plots, have a clear legend and clear lines, etc. Of course you would generating the plots in your code but you must also put these plots in your notebook. Generate high resolution pdf/svg version of the plots so that it doesn't pixilate on zooming.\n",
    "- For all experiments, report about the seed used in the code documentation, write about the seed used.\n",
    "- In your notebook write about all things that are not obvious from the code e.g., if you have made any assumptions, references/sources, running time, etc.\n",
    "-  **DO NOT Forget to write name, roll no and email details above**\n",
    "- **In addition to checking your code, we will be conducting one-on-one viva for the evaluation. So please make sure that you do not cheat!**\n",
    "- **Use of LLMs based tools or AI-based code tools is strictly prohibited! Use of ChatGPT, VS Code, Gemini, CO-Pilot, etc. is not allowed. NOTE VS code is also not allowed. Even in Colab disable the AI assistant. If you use it, we will know it very easily. Use of any of the tools would be counted as cheating and would be given a ZERO, with no questions asked.**\n",
    "- For each of the sub-part in the question create a new cell below the question and put your answer in there. This includes the plots as well"
   ]
  },
  {
   "cell_type": "markdown",
   "metadata": {
    "heading_collapsed": true
   },
   "source": [
    "# OpenAI Gym Environments\n",
    "<a id=\"Environment\"></a>"
   ]
  },
  {
   "cell_type": "code",
   "execution_count": null,
   "metadata": {},
   "outputs": [],
   "source": [
    "# all imports go in here\n",
    "import gymnasium as gym\n",
    "import numpy as np\n",
    "import matplotlib.pyplot as plt\n",
    "import torch\n",
    "import torch.nn as nn\n",
    "import torch.nn.functional as F\n",
    "import torch.optim as optim"
   ]
  },
  {
   "cell_type": "markdown",
   "metadata": {
    "hidden": true
   },
   "source": [
    "In this assignment we will be exploring Deep RL algorithms and for this we will be using environmentd provided by OpenAI Gym. In particualr we will be exploring \"CartPole-v0\" and \"MountainCar-v0\" environments (https://gymnasium.farama.org/environments/classic_control/ ). The code to instantiate the environments are given in the cells below. Run these cells and play with the environments to learn more details about the environments. "
   ]
  },
  {
   "cell_type": "code",
   "execution_count": null,
   "metadata": {
    "ExecuteTime": {
     "end_time": "2021-11-05T17:28:12.371968Z",
     "start_time": "2021-11-05T17:27:46.187228Z"
    },
    "hidden": true
   },
   "outputs": [],
   "source": [
    "# Create CartPole environment\n",
    "#https://gymnasium.farama.org/environments/classic_control/cart_pole/\n",
    "\n",
    "env = gym.make('CartPole-v0')\n",
    "env.seed(34)\n",
    "s = env.reset()\n",
    "print(\"Observation Space = \")\n",
    "print(env.observation_space)\n",
    "print(\"Action Space = \")\n",
    "print(env.action_space)\n",
    "done = False\n",
    "for episode in range(20):\n",
    "    print(\"In episode {}\".format(episode))\n",
    "    for i in range(100):\n",
    "        env.render()\n",
    "        print(s)\n",
    "        a = env.action_space.sample()\n",
    "        s, r, done, _ = env.step(a)\n",
    "        if done:\n",
    "            print(\"Finished after {} timestep\".format(i+1))\n",
    "env.close()"
   ]
  },
  {
   "cell_type": "code",
   "execution_count": null,
   "metadata": {
    "ExecuteTime": {
     "end_time": "2021-11-03T07:58:34.740393Z",
     "start_time": "2021-11-03T07:58:31.341154Z"
    },
    "hidden": true
   },
   "outputs": [],
   "source": [
    "# Create MountainCar environment: \n",
    "# https://gymnasium.farama.org/environments/classic_control/mountain_car/\n",
    "\n",
    "env = gym.make('MountainCar-v0')\n",
    "env.seed(45)\n",
    "s = env.reset()\n",
    "print(\"Observation Space = \")\n",
    "print(env.observation_space)\n",
    "print(\"Action Space = \")\n",
    "print(env.action_space)\n",
    "done = False\n",
    "for episode in range(20):\n",
    "    print(\"In episode {}\".format(episode))\n",
    "    for i in range(100):\n",
    "        env.render()\n",
    "        print(s)\n",
    "        a = env.action_space.sample()\n",
    "        s, r, done, _ = env.step(a)\n",
    "        if done:\n",
    "            print(\"Finished after {} timestep\".format(i+1))\n",
    "env.close()"
   ]
  },
  {
   "cell_type": "markdown",
   "metadata": {
    "hidden": true
   },
   "source": [
    "# Hyperparameters\n",
    "<a id=\"Hyperparameters\"></a>\n",
    "\n",
    "All your hyperparameters should be stated here. We will change their value here and your code should work  accordingly. "
   ]
  },
  {
   "cell_type": "code",
   "execution_count": null,
   "metadata": {
    "hidden": true
   },
   "outputs": [],
   "source": [
    "# mention the values of all the hyperparameters (you can add more hyper-paramters as well) to be used in the entire notebook, put the values that gave the best\n",
    "# performance and were finally used for the agent\n",
    "\n",
    "gamma =  \n",
    "epsilon = #epsolon greedy strategy\n",
    "temp = #softmax strategy \n",
    "delta = #huber loss\n",
    "tau = #D3QN\n",
    "alpha = #D3QN-PER\n",
    "beta = #D3QN-PER\n",
    "beta_rate = #D3QN-PER\n",
    "MAX_TRAIN_EPISODES = \n",
    "MAX_EVAL_EPISODES = "
   ]
  },
  {
   "cell_type": "markdown",
   "metadata": {
    "ExecuteTime": {
     "end_time": "2021-10-27T09:29:28.557269Z",
     "start_time": "2021-10-27T09:29:28.543908Z"
    },
    "heading_collapsed": true
   },
   "source": [
    "# Helper Functions\n",
    "<a id=\"helper\"></a>\n",
    "\n",
    "Write all the helper functions that will be used for value-based and policy based algorithms below. In case you want to add more helper functions, please feel free to add."
   ]
  },
  {
   "cell_type": "code",
   "execution_count": null,
   "metadata": {
    "hidden": true
   },
   "outputs": [],
   "source": [
    "def selectGreedyAction(net, state):\n",
    "    #this function gets q-values via the network and selects greedy action from q-values and returns it\n",
    "    \n",
    "    #Your code goes in here\n",
    "    \n",
    "    return greedyAction"
   ]
  },
  {
   "cell_type": "code",
   "execution_count": null,
   "metadata": {
    "hidden": true
   },
   "outputs": [],
   "source": [
    "def selectEpsilonGreedyAction(net,  state, epsilon):\n",
    "    #this function gets q-values via the network and selects an action from q-values using epsilon greedy strategy\n",
    "    #and returns it\n",
    "    #note this function can be used for decaying epsilon greedy strategy, \n",
    "    #you would need to create a wrapper function that will handle decaying epsilon\n",
    "    #you can create this wrapper in this helper function section\n",
    "    #for the agents you would be implementing it would be nice to play with decaying parameter to get optimal results\n",
    "    \n",
    "    #Your code goes in here\n",
    "    \n",
    "    \n",
    "    return eGreedyAction"
   ]
  },
  {
   "cell_type": "code",
   "execution_count": null,
   "metadata": {
    "hidden": true
   },
   "outputs": [],
   "source": [
    "def selectSoftMaxAction(net, state, temp):\n",
    "    #this function gets q-values via the network and selects an action from q-values using softmax strategy\n",
    "    #and returns it\n",
    "    #note this function can be used for decaying temperature softmax strategy, \n",
    "    #you would need to create a wrapper function that will handle decaying temperature\n",
    "    #you can create this wrapper in this helper function section\n",
    "    #for the agents you would be implementing it would be nice to play with decaying parameter to get optimal results\n",
    "    \n",
    "    #Your code goes in here\n",
    "    \n",
    "    return softAction"
   ]
  },
  {
   "cell_type": "code",
   "execution_count": null,
   "metadata": {
    "hidden": true
   },
   "outputs": [],
   "source": [
    "#Value Network\n",
    "def createValueNetwork(inDim, outDim, hDim = [32,32], activation = F.relu):\n",
    "    #this creates a Feed Forward Neural Network class and instantiates it and returns the class\n",
    "    #the class should be derived from torch nn.Module and it should have init and forward method at the very least\n",
    "    #the forward function should return q-value for each possible action\n",
    "    \n",
    "    #Your code goes in here\n",
    "    \n",
    "    return valueNetwork"
   ]
  },
  {
   "cell_type": "code",
   "execution_count": null,
   "metadata": {
    "hidden": true
   },
   "outputs": [],
   "source": [
    "#Dueling Network\n",
    "def createDuelingNetwork(inDim, outDim, hDim = [32,32], activation = F.relu):\n",
    "    #this creates a Feed Forward Neural Network class and instantiates it and returns the class\n",
    "    #the class should be derived from torch nn.Module and it should have init and forward method at the very least\n",
    "    #the forward function should return q-value which is derived \n",
    "    #internally from action-advantage function and v-function, \n",
    "    #Note we center the advantage values, basically we subtract the mean from each state-action value\n",
    "    \n",
    "    #Your code goes in here\n",
    "    \n",
    "    return duelNetwork"
   ]
  },
  {
   "cell_type": "code",
   "execution_count": null,
   "metadata": {
    "hidden": true
   },
   "outputs": [],
   "source": [
    "#Policy Network\n",
    "def createPolicyNetwork(inDim, outDim, hDim = [32,32], activation = F.relu):\n",
    "    #this creates a Feed Forward Neural Network class and instantiates it and returns the class\n",
    "    #the class should be derived from torch nn.Module and it should have init and forward method at the very least\n",
    "    #the forward function should return action logit vector \n",
    "    #Your code goes in here\n",
    "    \n",
    "    return policyNetwork"
   ]
  },
  {
   "cell_type": "code",
   "execution_count": null,
   "metadata": {
    "hidden": true
   },
   "outputs": [],
   "source": [
    "def plotQuantity(quantityListDict, totalEpisodeCount, descriptionList):\n",
    "    #this function takes in the quantityListDict and plots quantity vs episodes.\n",
    "    #quantityListListDict = {envInstanceCount: quantityList}\n",
    "    #quantityList is list of the qunatity per episode, \n",
    "    #for example it could be mean reward per episode, traintime per episode, etc.\n",
    "    #\n",
    "    #NOTE: len(quantityList) == totalEpisodeCount\n",
    "    #\n",
    "    #Since we run multiple instances of the environment, there will be variance across environments\n",
    "    #so in the plot, you will plot per episode maximum, minimum and average value across all env instances\n",
    "    #Basically, you need to envelop (e.g., via color) the quantity between max and min with mean value in between\n",
    "    #\n",
    "    #use the descriptionList parameter to put legends, title, etc. \n",
    "    #For each of the plot, create the legend on the left/right side so that it doesn't overlay on the plot lines/envelop.\n",
    "    #\n",
    "    #this is a generic function and can be used to plot any of the quantity of interest\n",
    "    #In particular we will be using this function to plot:\n",
    "    #        mean train rewards vs episodes\n",
    "    #        mean evaluation rewards vs episodes\n",
    "    #        total steps vs episode\n",
    "    #        train time vs episode\n",
    "    #        wall clock time vs episode\n",
    "    #\n",
    "    #\n",
    "    #this function doesn't return anything\n",
    "    \n",
    "    #Your code goes in here\n",
    "    \n",
    "    \n",
    "    return"
   ]
  },
  {
   "cell_type": "code",
   "execution_count": null,
   "metadata": {
    "hidden": true
   },
   "outputs": [],
   "source": [
    "def huberLoss(error, delta):\n",
    "    #this function calculates the huber loss for the error using the delta parameter\n",
    "    \n",
    "    #Your code goes in here\n",
    "    \n",
    "    return hLoss"
   ]
  },
  {
   "cell_type": "code",
   "execution_count": null,
   "metadata": {
    "hidden": true
   },
   "outputs": [],
   "source": [
    "#in case you want to create any other helper function, the code goes in here"
   ]
  },
  {
   "cell_type": "code",
   "execution_count": null,
   "metadata": {
    "hidden": true
   },
   "outputs": [],
   "source": [
    "#in case you want to create any other helper function, the code goes in here"
   ]
  },
  {
   "cell_type": "markdown",
   "metadata": {
    "heading_collapsed": true
   },
   "source": [
    "# Deep Value Based RL agents.\n",
    "<a id=\"deep-value-based\"></a>"
   ]
  },
  {
   "cell_type": "markdown",
   "metadata": {
    "hidden": true
   },
   "source": [
    "### The purpose of this part is to learn about different Deep Value Based RL agents.\n",
    "\n",
    "In this part of the assignment you will be implementing Deep RL algorithms we learnt in Lectures. Namely, we will be implementing NFQ, DQN, Double DQN (DDQN), Duelling Double DQN (D3QN), and Duelling Double DQN with Prioritized Experience Replay (D3QN-PER). For all the algorithms below, this time we will not be specifying the hyper-parameters, please play with the hyper-params to come up with the best values. This way you will learn to tune the model. Some of the values were specified in the lecture, that would be a good starting point. Your aim is to develop the best NFQ/DQN/DDQN/D3QN/D3QN-PER agent for each of the setting.  \n",
    "\n",
    "For those of you who follow TEDEd, here is an interesting video by TED on DQN and Atari Games: https://www.youtube.com/watch?v=PP8Zc778B8s \n",
    "\n",
    "Also since these environments are available in Gymanasium, there are public leaderboards (https://github.com/openai/gym/wiki/Leaderboard) for each of these environments. Compare where does your agent stand on these leaderboard for each of these environments, try to tune your agents so that it is on the top of the leaderboard. In fact, if your agent performs well on these environments, you can alse make your entry on the leaderboard.  "
   ]
  },
  {
   "cell_type": "markdown",
   "metadata": {},
   "source": [
    "## <font color='green'> Do not change any Class/Methods definition. We have split the class methods across cells for code readibility purposes. This requires to inherit the same class, please do not change it. </font>"
   ]
  },
  {
   "cell_type": "markdown",
   "metadata": {
    "heading_collapsed": true,
    "jp-MarkdownHeadingCollapsed": true
   },
   "source": [
    "## ReplayBuffer "
   ]
  },
  {
   "cell_type": "markdown",
   "metadata": {
    "hidden": true
   },
   "source": [
    "In next few cells, you will implement replaybuffer class. \n",
    "\n",
    "This class creates a buffer for storing and retrieving experiences. This is a generic class and can be used\n",
    "for different agents like NFQ, DQN, DDQN, PER_DDQN, etc. \n",
    "Following are the methods for this class which are implemented in subsequent cells\n",
    "\n",
    "```\n",
    "class ReplayBuffer():\n",
    "    def __init__(self, bufferSize, **kwargs)\n",
    "    def store(self, experience)\n",
    "    def update(self, indices, priorities) \n",
    "    def collectExperiences(env, state, explorationStrategy, net = None)\n",
    "    def sample(self, batchSize, **kwargs)\n",
    "    def splitExperiences(self, experiences)\n",
    "    def length(self)\n",
    "```   "
   ]
  },
  {
   "cell_type": "code",
   "execution_count": null,
   "metadata": {
    "hidden": true
   },
   "outputs": [],
   "source": [
    "class ReplayBuffer():\n",
    "    def __init__(self, bufferSize, bufferType = 'DQN', **kwargs):\n",
    "        # this function creates the relevant data-structures, and intializes all relevant variables\n",
    "        # it can take variable number of parameters like alpha, beta, beta_rate (required for PER)\n",
    "        # here the bufferType variable can be used to maintain one class for all types of agents\n",
    "        # using the bufferType parameter in the methods below, you can implement all possible functionalities \n",
    "        # that could be used for different types of agents\n",
    "        # permissible values for bufferType = NFQ, DQN, DDQN, D3QN and PER-D3QN\n",
    "        \n",
    "        #Your code goes in here\n",
    "        \n",
    "        return "
   ]
  },
  {
   "cell_type": "code",
   "execution_count": null,
   "metadata": {
    "hidden": true
   },
   "outputs": [],
   "source": [
    "class ReplayBuffer(ReplayBuffer):\n",
    "    def store(self, experience):\n",
    "        #stores the experiences, based on parameters in init it can assign priorities, etc.  \n",
    "        #\n",
    "        #this function does not return anything\n",
    "        #\n",
    "        #Your code goes in here\n",
    "        \n",
    "        return "
   ]
  },
  {
   "cell_type": "code",
   "execution_count": null,
   "metadata": {
    "hidden": true
   },
   "outputs": [],
   "source": [
    "class ReplayBuffer(ReplayBuffer):\n",
    "    def update(self, indices, priorities):\n",
    "        #this is mainly used for PER-DDQN\n",
    "        #otherwise just have a pass in this method\n",
    "        #\n",
    "        #this function does not return anything\n",
    "        #\n",
    "        #Your code goes in here\n",
    "        \n",
    "        return"
   ]
  },
  {
   "cell_type": "code",
   "execution_count": null,
   "metadata": {
    "hidden": true
   },
   "outputs": [],
   "source": [
    "class ReplayBuffer(ReplayBuffer):\n",
    "    def collectExperiences(env, state, explorationStrategy, countExperiences, net = None):\n",
    "        #this method allows the agent to interact with the environment starting from a state and it collects\n",
    "        #experiences during the interaction, it uses network to get the value function and uses exploration strategy\n",
    "        #to select action. It collects countExperiences and in case the environment terminates before that it returns\n",
    "        #the function calling this method needs to handle early termination accordingly.\n",
    "        #\n",
    "        #this function does not return anything\n",
    "        #\n",
    "        #Your code goes in here\n",
    "        \n",
    "        return "
   ]
  },
  {
   "cell_type": "code",
   "execution_count": null,
   "metadata": {
    "hidden": true
   },
   "outputs": [],
   "source": [
    "class ReplayBuffer(ReplayBuffer):\n",
    "    def sample(self, batchSize, **kwargs):\n",
    "        # this method returns batchSize number of experiences\n",
    "        # based on extra arguments, it could do sampling or it could return the latest batchSize experiences or\n",
    "        # via some other strategy\n",
    "        #\n",
    "        # in the case of Prioritized Experience Replay (PER) the sampling needs to take into account the priorities\n",
    "        #\n",
    "        # this function returns experiences samples\n",
    "        #\n",
    "        #Your code goes in here\n",
    "        \n",
    "        return experiencesList"
   ]
  },
  {
   "cell_type": "code",
   "execution_count": null,
   "metadata": {
    "hidden": true
   },
   "outputs": [],
   "source": [
    "class ReplayBuffer(ReplayBuffer):\n",
    "    def splitExperiences(self, experiences):\n",
    "        #it takes in experiences and gives the following:\n",
    "        #states, actions, rewards, nextStates, dones\n",
    "        #\n",
    "        #Your code goes in here\n",
    "        #\n",
    "        \n",
    "        return states, actions, rewards, nextStates, dones"
   ]
  },
  {
   "cell_type": "code",
   "execution_count": null,
   "metadata": {
    "hidden": true
   },
   "outputs": [],
   "source": [
    "class ReplayBuffer(ReplayBuffer):\n",
    "    def length(self):\n",
    "        #tells the number of experiences stored in the internal buffer\n",
    "        #\n",
    "        #Your code goes in here\n",
    "        #\n",
    "        \n",
    "        return bufferSize"
   ]
  },
  {
   "cell_type": "code",
   "execution_count": null,
   "metadata": {
    "hidden": true
   },
   "outputs": [],
   "source": []
  },
  {
   "cell_type": "markdown",
   "metadata": {
    "heading_collapsed": true
   },
   "source": [
    "## Neural Fitted Q (NFQ)"
   ]
  },
  {
   "cell_type": "markdown",
   "metadata": {
    "hidden": true
   },
   "source": [
    "Implement the Neural Fitted Q algorithm. We have studied about NFQ algorithm in the Lecture. Use the function definitions (given below).\n",
    "\n",
    "This class implements the NFQ Agent, you are required to implement the various methods of this class\n",
    "as outlined below. Note this class is generic and should work with any permissible Gym environment. \n",
    "Also please feel free to play with different exploration strategies with decaying paramters (epsilon/temperature)\n",
    "\n",
    "```\n",
    "class NFQ():\n",
    "    def __init__(env, seed, gamma, epochs,\n",
    "                 bufferSize,\n",
    "                 batchSize,\n",
    "                 optimizerFn,\n",
    "                 optimizerLR,\n",
    "                 MAX_TRAIN_EPISODES, MAX_EVAL_EPISODES,\n",
    "                 explorationStrategyTrainFn, \n",
    "                 explorationStrategyEvalFn)\n",
    "    def initBookKeeping(self)\n",
    "    def performBookKeeping(self, train = True)\n",
    "    def runNFQ(self)\n",
    "    def trainAgent(self)\n",
    "    def trainNetwork(self, experiences, epochs)\n",
    "    def evaluateAgent(self)\n",
    "```"
   ]
  },
  {
   "cell_type": "code",
   "execution_count": null,
   "metadata": {
    "hidden": true
   },
   "outputs": [],
   "source": [
    "class NFQ():\n",
    "    def __init__(self, env, seed, gamma, epochs, \n",
    "                 bufferSize,\n",
    "                 batchSize,\n",
    "                 optimizerFn,\n",
    "                 optimizerLR,\n",
    "                 MAX_TRAIN_EPISODES, MAX_EVAL_EPISODES,\n",
    "                 explorationStrategyTrainFn, \n",
    "                 explorationStrategyEvalFn):\n",
    "        #this NFQ method \n",
    "        # 1. creates and initializes (with seed) the environment, train/eval episodes, gamma, etc. \n",
    "        # 2. creates and intializes all the variables required for book-keeping values via the initBookKeeping method\n",
    "        # 3. creates Q-network using the createValueNetwork above\n",
    "        # 4. creates and initializes (with network params) the optimizer function\n",
    "        # 5. sets the explorationStartegy variables/functions for train and evaluation\n",
    "        # 6. sets the batchSize for the number of experiences \n",
    "        # 7. Creates the replayBuffer\n",
    "    \n",
    "    #Your code goes in here"
   ]
  },
  {
   "cell_type": "code",
   "execution_count": null,
   "metadata": {
    "hidden": true
   },
   "outputs": [],
   "source": [
    "class NFQ(NFQ):\n",
    "    def initBookKeeping(self):\n",
    "        #this method creates and intializes all the variables required for book-keeping values and it is called\n",
    "        #init method\n",
    "\n",
    "    #Your code goes in here"
   ]
  },
  {
   "cell_type": "code",
   "execution_count": null,
   "metadata": {
    "hidden": true
   },
   "outputs": [],
   "source": [
    "class NFQ(NFQ):\n",
    "    def performBookKeeping(self, train = True):\n",
    "        #this method updates relevant variables for the bookKeeping, this can be called \n",
    "        #multiple times during training\n",
    "        #if you want you can print information using this, so it may help to monitor progress and also help to debug\n",
    "        \n",
    "    #Your code goes in here"
   ]
  },
  {
   "cell_type": "code",
   "execution_count": null,
   "metadata": {
    "hidden": true
   },
   "outputs": [],
   "source": [
    "class NFQ(NFQ):\n",
    "    def runNFQ(self):\n",
    "        #this is the main method, it trains the agent, performs bookkeeping while training and finally evaluates\n",
    "        #the agent and returns the following quantities:\n",
    "        #1. episode wise mean train rewards\n",
    "        #2. epsiode wise mean eval rewards \n",
    "        #2. episode wise trainTime (in seconds): time elapsed during training since the start of the first episode \n",
    "        #3. episode wise wallClockTime (in seconds): actual time elapsed since the start of training, \n",
    "        #                               note this will include time for BookKeeping and evaluation \n",
    "        # Note both trainTime and wallClockTime get accumulated as episodes proceed. \n",
    "        \n",
    "        \n",
    "        #Your code goes in here\n",
    "        \n",
    "        return trainRewardsList, trainTimeList, evalRewardsList, wallClockTimeList, finalEvalReward "
   ]
  },
  {
   "cell_type": "code",
   "execution_count": null,
   "metadata": {
    "hidden": true
   },
   "outputs": [],
   "source": [
    "class NFQ(NFQ):\n",
    "    def trainAgent(self):\n",
    "        #this method collects experiences and trains the NFQ agent and does BookKeeping while training. \n",
    "        #this calls the trainNetwork() method internally, it also evaluates the agent per episode\n",
    "        #it trains the agent for MAX_TRAIN_EPISODES\n",
    "        \n",
    "        #Your code goes in here\n",
    "        \n",
    "        return trainRewardsList, trainTimeList, evalRewardsList, wallClockTimeList"
   ]
  },
  {
   "cell_type": "code",
   "execution_count": null,
   "metadata": {
    "hidden": true
   },
   "outputs": [],
   "source": [
    "class NFQ(NFQ):\n",
    "    def trainNetwork(self, experiences, epochs):\n",
    "        # this method trains the value network epoch number of times and is called by the trainAgent function\n",
    "        # it essentially uses the experiences to calculate target, using the targets it calculates the error, which\n",
    "        # is further used for calulating the loss. It then uses the optimizer over the loss \n",
    "        # to update the params of the network by backpropagating through the network\n",
    "        # this function does not return anything\n",
    "        # you can try out other loss functions other than MSE like Huber loss, MAE, etc. \n",
    "        \n",
    "        #Your code goes in here\n",
    "        \n",
    "        return"
   ]
  },
  {
   "cell_type": "code",
   "execution_count": null,
   "metadata": {
    "hidden": true
   },
   "outputs": [],
   "source": [
    "class NFQ(NFQ):\n",
    "    def evaluateAgent(self):\n",
    "        #this function evaluates the agent using the value network, it evaluates agent for MAX_EVAL_EPISODES\n",
    "        #typcially MAX_EVAL_EPISODES = 1\n",
    "        \n",
    "        #Your code goes in here\n",
    "        \n",
    "        return finalEvalRewardsList  "
   ]
  },
  {
   "cell_type": "markdown",
   "metadata": {
    "heading_collapsed": true
   },
   "source": [
    "## Deep Q-Network (DQN) "
   ]
  },
  {
   "cell_type": "markdown",
   "metadata": {
    "hidden": true
   },
   "source": [
    "Implement the Deep Q algorithm. We have studied about DQN algorithm in the Lecture. Use the function definitions (given below).\n",
    "\n",
    "This class implements the DQN Agent, you are required to implement the various methods of this class\n",
    "as outlined below. Note this class is generic and should work with any permissible Gym environment\n",
    "\n",
    "```\n",
    "class DQN():\n",
    "    def __init__(env, seed, gamma, \n",
    "                 bufferSize,\n",
    "                 batchSize,\n",
    "                 optimizerFn,\n",
    "                 optimizerLR,\n",
    "                 MAX_TRAIN_EPISODES, MAX_EVAL_EPISODES,\n",
    "                 explorationStrategyTrainFn, \n",
    "                 explorationStrategyEvalFn,\n",
    "                 updateFrequency)\n",
    "    def initBookKeeping(self)\n",
    "    def performBookKeeping(self, train = True)\n",
    "    def runDQN(self)\n",
    "    def trainAgent(self)\n",
    "    def trainNetwork(self, experiences)\n",
    "    def updateNetwork(self, onlineNet, targetNet)\n",
    "    def evaluateAgent(self)\n",
    "```"
   ]
  },
  {
   "cell_type": "code",
   "execution_count": null,
   "metadata": {
    "ExecuteTime": {
     "end_time": "2021-11-05T10:33:03.909875Z",
     "start_time": "2021-11-05T10:33:03.806829Z"
    },
    "hidden": true
   },
   "outputs": [],
   "source": [
    "class DQN():\n",
    "    def __init__(env, seed, gamma, \n",
    "                 bufferSize,\n",
    "                 batchSize,\n",
    "                 optimizerFn,\n",
    "                 optimizerLR,\n",
    "                 MAX_TRAIN_EPISODES, MAX_EVAL_EPISODES,\n",
    "                 explorationStrategyTrainFn, \n",
    "                 explorationStrategyEvalFn,\n",
    "                 updateFrequency):\n",
    "        #this DQN method \n",
    "        # 1. creates and initializes (with seed) the environment, train/eval episodes, gamma, etc. \n",
    "        # 2. creates and intializes all the variables required for book-keeping values via the initBookKeeping method\n",
    "        # 3. creates traget and online Q-networks using the createValueNetwork above\n",
    "        # 4. creates and initializes (with network params) the optimizer function\n",
    "        # 5. sets the explorationStartegy variables/functions for train and evaluation\n",
    "        # 6. sets the batchSize for the number of experiences \n",
    "        # 7. Creates the replayBuffer\n",
    "        \n",
    "        #Your code goes in here"
   ]
  },
  {
   "cell_type": "code",
   "execution_count": null,
   "metadata": {
    "hidden": true
   },
   "outputs": [],
   "source": [
    "class DQN(DQN):\n",
    "    def initBookKeeping(self):\n",
    "        #this method creates and intializes all the variables required for book-keeping values and it is called\n",
    "        #init method\n",
    "        #\n",
    "        # Your code goes in here\n",
    "        #\n",
    "        \n",
    "        return"
   ]
  },
  {
   "cell_type": "code",
   "execution_count": null,
   "metadata": {
    "hidden": true
   },
   "outputs": [],
   "source": [
    "class DQN(DQN):\n",
    "    def performBookKeeping(self, train = True):\n",
    "        #this method updates relevant variables for the bookKeeping, this can be called \n",
    "        #multiple times during training\n",
    "        #if you want you can print information using this, so it may help to monitor progress and also help to debug\n",
    "        #\n",
    "        # Your code goes in here\n",
    "        #\n",
    "        \n",
    "        return"
   ]
  },
  {
   "cell_type": "code",
   "execution_count": null,
   "metadata": {
    "hidden": true
   },
   "outputs": [],
   "source": [
    "class DQN(DQN):\n",
    "    def runDQN(self):\n",
    "        #this is the main method, it trains the agent, performs bookkeeping while training and finally evaluates\n",
    "        #the agent and returns the following quantities:\n",
    "        #1. episode wise mean train rewards\n",
    "        #2. epsiode wise mean eval rewards \n",
    "        #2. episode wise trainTime (in seconds): time elapsed during training since the start of the first episode \n",
    "        #3. episode wise wallClockTime (in seconds): actual time elapsed since the start of training, \n",
    "        #                               note this will include time for BookKeeping and evaluation \n",
    "        # Note both trainTime and wallClockTime get accumulated as episodes proceed. \n",
    "        #\n",
    "        #Your code goes in here\n",
    "        #\n",
    "        \n",
    "        return trainRewardsList, trainTimeList, evalRewardsList, wallClockTimeList, finalEvalReward "
   ]
  },
  {
   "cell_type": "code",
   "execution_count": null,
   "metadata": {
    "hidden": true
   },
   "outputs": [],
   "source": [
    "class DQN(DQN):\n",
    "    def trainAgent(self):\n",
    "        #this method collects experiences and trains the agent and does BookKeeping while training. \n",
    "        #this calls the trainNetwork() method internally, it also evaluates the agent per episode\n",
    "        #it trains the agent for MAX_TRAIN_EPISODES\n",
    "        #\n",
    "        #Your code goes in here\n",
    "        #\n",
    "        \n",
    "        return trainRewardsList, trainTimeList, evalRewardsList, wallClockTimeList"
   ]
  },
  {
   "cell_type": "code",
   "execution_count": null,
   "metadata": {
    "hidden": true
   },
   "outputs": [],
   "source": [
    "class DQN(DQN):\n",
    "    def trainNetwork(self, experiences, epochs):\n",
    "        # this method trains the value network epoch number of times and is called by the trainAgent function\n",
    "        # it essentially uses the experiences to calculate target, using the targets it calculates the error, which\n",
    "        # is further used for calulating the loss. It then uses the optimizer over the loss \n",
    "        # to update the params of the network by backpropagating through the network\n",
    "        # this function does not return anything\n",
    "        # you can try out other loss functions other than MSE like Huber loss, MAE, etc. \n",
    "        #\n",
    "        #Your code goes in here\n",
    "        #\n",
    "        \n",
    "        return"
   ]
  },
  {
   "cell_type": "code",
   "execution_count": null,
   "metadata": {
    "hidden": true
   },
   "outputs": [],
   "source": [
    "class DQN(DQN):\n",
    "    def updateNetwork(self, onlineNet, targetNet):\n",
    "        #this function updates the onlineNetwork with the target network\n",
    "        #\n",
    "        # Your code goes in here\n",
    "        #\n",
    "        \n",
    "        return"
   ]
  },
  {
   "cell_type": "code",
   "execution_count": null,
   "metadata": {
    "hidden": true
   },
   "outputs": [],
   "source": [
    "class DQN(DQN):\n",
    "    def evaluateAgent(self):\n",
    "        #this function evaluates the agent using the value network, it evaluates agent for MAX_EVAL_EPISODES\n",
    "        #typcially MAX_EVAL_EPISODES = 1\n",
    "        #\n",
    "        #Your code goes in here\n",
    "        #\n",
    "        \n",
    "        return finalEvalRewardsList  "
   ]
  },
  {
   "cell_type": "markdown",
   "metadata": {
    "heading_collapsed": true
   },
   "source": [
    "## Double DQN (DDQN)"
   ]
  },
  {
   "cell_type": "markdown",
   "metadata": {
    "hidden": true
   },
   "source": [
    "Implement the Double DQN agent. We have studied about Double DQN agent in the Lecture. Use the function definitions (given below).\n",
    "\n",
    "This class implements the Double DQN agent, you are required to implement the various methods of this class\n",
    "as outlined below. Note this class is generic and should work with any permissible Gym environment\n",
    "\n",
    "```\n",
    "class DDQN():\n",
    "    def __init__(env, seed, gamma, \n",
    "                 bufferSize,\n",
    "                 batchSize,\n",
    "                 optimizerFn,\n",
    "                 optimizerLR,\n",
    "                 MAX_TRAIN_EPISODES, MAX_EVAL_EPISODES,\n",
    "                 explorationStrategyTrainFn, \n",
    "                 explorationStrategyEvalFn,\n",
    "                 updateFrequency)\n",
    "    def initBookKeeping(self)\n",
    "    def performBookKeeping(self, train = True)\n",
    "    def runDDQN(self)\n",
    "    def trainAgent(self)\n",
    "    def trainNetwork(self, experiences)\n",
    "    def updateNetwork(self, onlineNet, targetNet)\n",
    "    def evaluateAgent(self)\n",
    "```"
   ]
  },
  {
   "cell_type": "code",
   "execution_count": null,
   "metadata": {
    "hidden": true
   },
   "outputs": [],
   "source": [
    "class DDQN():\n",
    "    def __init__(env, seed, gamma, \n",
    "                 bufferSize,\n",
    "                 batchSize,\n",
    "                 optimizerFn,\n",
    "                 optimizerLR,\n",
    "                 MAX_TRAIN_EPISODES, MAX_EVAL_EPISODES,\n",
    "                 explorationStrategyTrainFn, \n",
    "                 explorationStrategyEvalFn,\n",
    "                 updateFrequency):\n",
    "        #this DDQN method \n",
    "        # 1. creates and initializes (with seed) the environment, train/eval episodes, gamma, etc. \n",
    "        # 2. creates and intializes all the variables required for book-keeping values via the initBookKeeping method\n",
    "        # 3. creates tareget and online Q-networks using the createValueNetwork above\n",
    "        # 4. creates and initializes (with network params) the optimizer function\n",
    "        # 5. sets the explorationStartegy variables/functions for train and evaluation\n",
    "        # 6. sets the batchSize for the number of experiences \n",
    "        # 7. Creates the replayBuffer\n",
    "        \n",
    "        #Your code goes in here"
   ]
  },
  {
   "cell_type": "code",
   "execution_count": null,
   "metadata": {
    "hidden": true
   },
   "outputs": [],
   "source": [
    "class DDQN(DDQN):\n",
    "    def initBookKeeping(self):\n",
    "        #this method creates and intializes all the variables required for book-keeping values and it is called\n",
    "        #init method\n",
    "        #\n",
    "        # Your code goes in here\n",
    "        #\n",
    "        \n",
    "        return"
   ]
  },
  {
   "cell_type": "code",
   "execution_count": null,
   "metadata": {
    "hidden": true
   },
   "outputs": [],
   "source": [
    "class DDQN(DDQN):\n",
    "    def performBookKeeping(self, train = True):\n",
    "        #this method updates relevant variables for the bookKeeping, this can be called \n",
    "        #multiple times during training\n",
    "        #if you want you can print information using this, so it may help to monitor progress and also help to debug\n",
    "        #\n",
    "        # Your code goes in here\n",
    "        #\n",
    "        \n",
    "        return"
   ]
  },
  {
   "cell_type": "code",
   "execution_count": null,
   "metadata": {
    "hidden": true
   },
   "outputs": [],
   "source": [
    "class DDQN(DDQN):\n",
    "    def runDDQN(self):\n",
    "        #this is the main method, it trains the agent, performs bookkeeping while training and finally evaluates\n",
    "        #the agent and returns the following quantities:\n",
    "        #1. episode wise mean train rewards\n",
    "        #2. epsiode wise mean eval rewards \n",
    "        #2. episode wise trainTime (in seconds): time elapsed during training since the start of the first episode \n",
    "        #3. episode wise wallClockTime (in seconds): actual time elapsed since the start of training, \n",
    "        #                               note this will include time for BookKeeping and evaluation \n",
    "        # Note both trainTime and wallClockTime get accumulated as episodes proceed. \n",
    "        \n",
    "        #Your code goes in here\n",
    "        \n",
    "        return trainRewardsList, trainTimeList, evalRewardsList, wallClockTimeList, finalEvalReward "
   ]
  },
  {
   "cell_type": "code",
   "execution_count": null,
   "metadata": {
    "hidden": true
   },
   "outputs": [],
   "source": [
    "class DDQN(DDQN):\n",
    "    def trainAgent(self):\n",
    "        #this method collects experiences and trains the agent and does BookKeeping while training. \n",
    "        #this calls the trainNetwork() method internally, it also evaluates the agent per episode\n",
    "        #it trains the agent for MAX_TRAIN_EPISODES\n",
    "        #\n",
    "        #Your code goes in here\n",
    "        \n",
    "        return trainRewardsList, trainTimeList, evalRewardsList, wallClockTimeList"
   ]
  },
  {
   "cell_type": "code",
   "execution_count": null,
   "metadata": {
    "hidden": true
   },
   "outputs": [],
   "source": [
    "class DDQN(DDQN):\n",
    "    def trainNetwork(self, experiences, epochs):\n",
    "        # this method trains the value network epoch number of times and is called by the trainAgent function\n",
    "        # it essentially uses the experiences to calculate target, using the targets it calculates the error, which\n",
    "        # is further used for calulating the loss. It then uses the optimizer over the loss \n",
    "        # to update the params of the network by backpropagating through the network\n",
    "        # this function does not return anything\n",
    "        # you can try out other loss functions other than MSE like Huber loss, MAE, etc. \n",
    "        #\n",
    "        #Your code goes in here\n",
    "        \n",
    "        return"
   ]
  },
  {
   "cell_type": "code",
   "execution_count": null,
   "metadata": {
    "hidden": true
   },
   "outputs": [],
   "source": [
    "class DDQN(DDQN):\n",
    "    def updateNetwork(self, onlineNet, targetNet):\n",
    "        #this function updates the onlineNetwork with the target network\n",
    "        #\n",
    "        # Your code goes in here\n",
    "        #\n",
    "        \n",
    "        return"
   ]
  },
  {
   "cell_type": "code",
   "execution_count": null,
   "metadata": {
    "hidden": true
   },
   "outputs": [],
   "source": [
    "class DDQN(DDQN):\n",
    "    def evaluateAgent(self):\n",
    "        #this function evaluates the agent using the value network, it evaluates agent for MAX_EVAL_EPISODES\n",
    "        #typcially MAX_EVAL_EPISODES = 1\n",
    "        \n",
    "        #Your code goes in here\n",
    "        \n",
    "        return finalEvalRewardsList  "
   ]
  },
  {
   "cell_type": "markdown",
   "metadata": {
    "heading_collapsed": true
   },
   "source": [
    "## Dueling DDQN"
   ]
  },
  {
   "cell_type": "markdown",
   "metadata": {
    "hidden": true
   },
   "source": [
    "Implement the Dueling Double Deep Q algorithm. We have studied about Dueling Double DQN agent in the Lecture. Use the function definitions (given below).\n",
    "\n",
    "This class implements the Dueling Double DQN agent, you are required to implement the various methods of this class\n",
    "as outlined below. Note this class is generic and should work with any permissible Gym environment\n",
    "\n",
    "```\n",
    "class D3QN():\n",
    "    def __init__(env, seed, gamma, tau, \n",
    "                 bufferSize,\n",
    "                 batchSize,\n",
    "                 optimizerFn,\n",
    "                 optimizerLR,\n",
    "                 MAX_TRAIN_EPISODES, MAX_EVAL_EPISODES,\n",
    "                 explorationStrategyTrainFn, \n",
    "                 explorationStrategyEvalFn,\n",
    "                 updateFrequency)\n",
    "    def initBookKeeping(self)\n",
    "    def performBookKeeping(self, train = True)\n",
    "    def runD3QN(self)\n",
    "    def trainAgent(self)\n",
    "    def trainNetwork(self, experiences)\n",
    "    def updateNetwork(self, onlineNet, targetNet)\n",
    "    def evaluateAgent(self)\n",
    "```"
   ]
  },
  {
   "cell_type": "code",
   "execution_count": null,
   "metadata": {
    "hidden": true
   },
   "outputs": [],
   "source": [
    "class D3QN():\n",
    "    def __init__(env, seed, gamma, tau, \n",
    "                 bufferSize,\n",
    "                 batchSize,\n",
    "                 optimizerFn,\n",
    "                 optimizerLR,\n",
    "                 MAX_TRAIN_EPISODES, MAX_EVAL_EPISODES,\n",
    "                 explorationStrategyTrainFn, \n",
    "                 explorationStrategyEvalFn,\n",
    "                 updateFrequency):\n",
    "        #this D3QN method \n",
    "        # 1. creates and initializes (with seed) the environment, train/eval episodes, gamma, etc. \n",
    "        # 2. creates and intializes all the variables required for book-keeping values via the initBookKeeping method\n",
    "        # 3. creates tareget and online Q-networks using the createValueNetwork above\n",
    "        # 4. creates and initializes (with network params) the optimizer function\n",
    "        # 5. sets the explorationStartegy variables/functions for train and evaluation\n",
    "        # 6. sets the batchSize for the number of experiences \n",
    "        # 7. Creates the replayBuffer\n",
    "        \n",
    "        #Your code goes in here"
   ]
  },
  {
   "cell_type": "code",
   "execution_count": null,
   "metadata": {
    "hidden": true
   },
   "outputs": [],
   "source": [
    "class D3QN(D3QN):\n",
    "    def initBookKeeping(self):\n",
    "        #this method creates and intializes all the variables required for book-keeping values and it is called\n",
    "        #init method\n",
    "        #\n",
    "        # Your code goes in here\n",
    "        #\n",
    "        \n",
    "        return"
   ]
  },
  {
   "cell_type": "code",
   "execution_count": null,
   "metadata": {
    "hidden": true
   },
   "outputs": [],
   "source": [
    "class D3QN(D3QN):\n",
    "    def performBookKeeping(self, train = True):\n",
    "        #this method updates relevant variables for the bookKeeping, this can be called \n",
    "        #multiple times during training\n",
    "        #if you want you can print information using this, so it may help to monitor progress and also help to debug\n",
    "        #\n",
    "        # Your code goes in here\n",
    "        #\n",
    "        \n",
    "        return"
   ]
  },
  {
   "cell_type": "code",
   "execution_count": null,
   "metadata": {
    "hidden": true
   },
   "outputs": [],
   "source": [
    "class D3QN(D3QN):\n",
    "    def runD3QN(self):\n",
    "        #this is the main method, it trains the agent, performs bookkeeping while training and finally evaluates\n",
    "        #the agent and returns the following quantities:\n",
    "        #1. episode wise mean train rewards\n",
    "        #2. epsiode wise mean eval rewards \n",
    "        #2. episode wise trainTime (in seconds): time elapsed during training since the start of the first episode \n",
    "        #3. episode wise wallClockTime (in seconds): actual time elapsed since the start of training, \n",
    "        #                               note this will include time for BookKeeping and evaluation \n",
    "        # Note both trainTime and wallClockTime get accumulated as episodes proceed. \n",
    "        \n",
    "        #Your code goes in here\n",
    "        \n",
    "        return trainRewardsList, trainTimeList, evalRewardsList, wallClockTimeList, finalEvalReward "
   ]
  },
  {
   "cell_type": "code",
   "execution_count": null,
   "metadata": {
    "hidden": true
   },
   "outputs": [],
   "source": [
    "class D3QN(D3QN):\n",
    "    def trainAgent(self):\n",
    "        #this method collects experiences and trains the agent and does BookKeeping while training. \n",
    "        #this calls the trainNetwork() method internally, it also evaluates the agent per episode\n",
    "        #it trains the agent for MAX_TRAIN_EPISODES\n",
    "        \n",
    "        #Your code goes in here\n",
    "        \n",
    "        return trainRewardsList, trainTimeList, evalRewardsList, wallClockTimeList"
   ]
  },
  {
   "cell_type": "code",
   "execution_count": null,
   "metadata": {
    "hidden": true
   },
   "outputs": [],
   "source": [
    "class D3QN(D3QN):\n",
    "    def trainNetwork(self, experiences, epochs):\n",
    "        # this method trains the value network epoch number of times and is called by the trainAgent function\n",
    "        # it essentially uses the experiences to calculate target, using the targets it calculates the error, which\n",
    "        # is further used for calulating the loss. It then uses the optimizer over the loss \n",
    "        # to update the params of the network by backpropagating through the network\n",
    "        # this function does not return anything\n",
    "        # you can try out other loss functions other than MSE like Huber loss, MAE, etc. \n",
    "        \n",
    "        #Your code goes in here\n",
    "        \n",
    "        return"
   ]
  },
  {
   "cell_type": "code",
   "execution_count": null,
   "metadata": {
    "hidden": true
   },
   "outputs": [],
   "source": [
    "class D3QN(D3QN):\n",
    "    def updateNetwork(self, onlineNet, targetNet):\n",
    "        #this function updates the onlineNetwork with the target network using Polyak averaging\n",
    "        #\n",
    "        # Your code goes in here\n",
    "        #\n",
    "        \n",
    "        return"
   ]
  },
  {
   "cell_type": "code",
   "execution_count": null,
   "metadata": {
    "hidden": true
   },
   "outputs": [],
   "source": [
    "class D3QN(D3QN):\n",
    "    def evaluateAgent(self):\n",
    "        #this function evaluates the agent using the value network, it evaluates agent for MAX_EVAL_EPISODES\n",
    "        #typcially MAX_EVAL_EPISODES = 1\n",
    "        #\n",
    "        #Your code goes in here\n",
    "        \n",
    "        return finalEvalRewardsList  "
   ]
  },
  {
   "cell_type": "markdown",
   "metadata": {
    "heading_collapsed": true
   },
   "source": [
    "## Dueling Double Deep Q Network with Prioritized Experience Replay (D3QN-PER)"
   ]
  },
  {
   "cell_type": "markdown",
   "metadata": {
    "hidden": true
   },
   "source": [
    "Implement the Dueling Double DQN with Prioritized Experience Replay (D3QN-PER) agent. We have studied about D3QN-PER agent in the Lecture. Use the function definitions (given below).\n",
    "\n",
    "This class implements the D3QN-PER agent, you are required to implement the various methods of this class\n",
    "as outlined below. Note this class is generic and should work with any permissible Gym environment\n",
    "\n",
    "```\n",
    "class D3QN_PER():\n",
    "    def __init__(env, seed, gamma, tau, alpha, beta, beta_rate, \n",
    "                 bufferSize,\n",
    "                 batchSize,\n",
    "                 optimizerFn,\n",
    "                 optimizerLR,\n",
    "                 MAX_TRAIN_EPISODES, MAX_EVAL_EPISODES,\n",
    "                 explorationStrategyTrainFn, \n",
    "                 explorationStrategyEvalFn,\n",
    "                 updateFrequency)\n",
    "    def initBookKeeping(self)\n",
    "    def performBookKeeping(self, train = True)\n",
    "    def runD3QN_PER(self)\n",
    "    def trainAgent(self)\n",
    "    def trainNetwork(self, experiences)\n",
    "    def updateNetwork(self, onlineNet, targetNet)\n",
    "    def evaluateAgent(self)\n",
    "``` "
   ]
  },
  {
   "cell_type": "code",
   "execution_count": null,
   "metadata": {
    "hidden": true
   },
   "outputs": [],
   "source": [
    "class D3QN_PER():\n",
    "    def __init__(env, seed, gamma, tau, alpha, beta, beta_rate, \n",
    "                 bufferSize,\n",
    "                 batchSize,\n",
    "                 optimizerFn,\n",
    "                 optimizerLR,\n",
    "                 MAX_TRAIN_EPISODES, MAX_EVAL_EPISODES,\n",
    "                 explorationStrategyTrainFn, \n",
    "                 explorationStrategyEvalFn,\n",
    "                 updateFrequency):\n",
    "        #this D3QN method \n",
    "        # 1. creates and initializes (with seed) the environment, train/eval episodes, gamma, etc. \n",
    "        # 2. creates and intializes all the variables required for book-keeping values via the initBookKeeping method\n",
    "        # 3. creates tareget and online Q-networks using the createValueNetwork above\n",
    "        # 4. creates and initializes (with network params) the optimizer function\n",
    "        # 5. sets the explorationStartegy variables/functions for train and evaluation\n",
    "        # 6. sets the batchSize for the number of experiences \n",
    "        # 7. Creates the replayBuffer, \n",
    "        #    the replayBuffer takes the parameters bufferSize, alpha, beta and beta_rate\n",
    "        #\n",
    "        # Your code goes in here"
   ]
  },
  {
   "cell_type": "code",
   "execution_count": null,
   "metadata": {
    "hidden": true
   },
   "outputs": [],
   "source": [
    "class D3QN_PER(D3QN_PER):\n",
    "    def initBookKeeping(self):\n",
    "        #this method creates and intializes all the variables required for book-keeping values and it is called\n",
    "        #init method\n",
    "        #\n",
    "        #Your code goes in here\n",
    "        #\n",
    "        \n",
    "        return "
   ]
  },
  {
   "cell_type": "code",
   "execution_count": null,
   "metadata": {
    "hidden": true
   },
   "outputs": [],
   "source": [
    "class D3QN_PER(D3QN_PER):\n",
    "    def performBookKeeping(self, train = True):\n",
    "        #this method updates relevant variables for the bookKeeping, this can be called \n",
    "        #multiple times during training\n",
    "        #if you want you can print information using this, so it may help to monitor progress and also help to debug\n",
    "        #\n",
    "        #Your code goes in here\n",
    "        #\n",
    "        \n",
    "        return "
   ]
  },
  {
   "cell_type": "code",
   "execution_count": null,
   "metadata": {
    "hidden": true
   },
   "outputs": [],
   "source": [
    "class D3QN_PER(D3QN_PER):\n",
    "    def runD3QN_PER(self):\n",
    "        #this is the main method, it trains the agent, performs bookkeeping while training and finally evaluates\n",
    "        #the agent and returns the following quantities:\n",
    "        #1. episode wise mean train rewards\n",
    "        #2. epsiode wise mean eval rewards \n",
    "        #2. episode wise trainTime (in seconds): time elapsed during training since the start of the first episode \n",
    "        #3. episode wise wallClockTime (in seconds): actual time elapsed since the start of training, \n",
    "        #                               note this will include time for BookKeeping and evaluation \n",
    "        # Note both trainTime and wallClockTime get accumulated as episodes proceed. \n",
    "        #\n",
    "        # Your code goes in here\n",
    "        \n",
    "        return trainRewardsList, trainTimeList, evalRewardsList, wallClockTimeList, finalEvalReward "
   ]
  },
  {
   "cell_type": "code",
   "execution_count": null,
   "metadata": {
    "hidden": true
   },
   "outputs": [],
   "source": [
    "class D3QN_PER(D3QN_PER):\n",
    "    def trainAgent(self):\n",
    "        #this method collects experiences and trains the agent and does BookKeeping while training. \n",
    "        #this calls the trainNetwork() method internally, it also evaluates the agent per episode\n",
    "        #it trains the agent for MAX_TRAIN_EPISODES\n",
    "        #\n",
    "        #Your code goes in here\n",
    "        \n",
    "        return trainRewardsList, trainTimeList, evalRewardsList, wallClockTimeList"
   ]
  },
  {
   "cell_type": "code",
   "execution_count": null,
   "metadata": {
    "hidden": true
   },
   "outputs": [],
   "source": [
    "class D3QN_PER(D3QN_PER):\n",
    "    def trainNetwork(self, experiences):\n",
    "        # this method trains the value network epoch number of times and is called by the trainAgent function\n",
    "        # it essentially uses the experiences to calculate target, using the targets it calculates the error, which\n",
    "        # is further used for calulating the loss. It then uses the optimizer over the loss \n",
    "        # to update the params of the network by backpropagating through the network\n",
    "        # this function does not return anything\n",
    "        # you can try out other loss functions other than MSE like Huber loss, MAE, etc. \n",
    "        #\n",
    "        #Your code goes in here\n",
    "        \n",
    "        return"
   ]
  },
  {
   "cell_type": "code",
   "execution_count": null,
   "metadata": {
    "hidden": true
   },
   "outputs": [],
   "source": [
    "class D3QN_PER(D3QN_PER):\n",
    "    def updateNetwork(self, onlineNet, targetNet):\n",
    "        #this function updates the onlineNetwork with the target network using Polyak averaging \\\n",
    "        #\n",
    "        # Your code goes in here\n",
    "        #\n",
    "        \n",
    "        return"
   ]
  },
  {
   "cell_type": "code",
   "execution_count": null,
   "metadata": {
    "hidden": true
   },
   "outputs": [],
   "source": [
    "class D3QN_PER(D3QN_PER):\n",
    "    def evaluateAgent(self):\n",
    "        #this function evaluates the agent using the value network, it evaluates agent for MAX_EVAL_EPISODES\n",
    "        #typcially MAX_EVAL_EPISODES = 1\n",
    "        #\n",
    "        #Your code goes in here\n",
    "        \n",
    "        return finalEvalRewardsList"
   ]
  },
  {
   "cell_type": "markdown",
   "metadata": {},
   "source": [
    "# Deep Policy Based RL agents.\n",
    "<a id=\"deep-policy-based\"></a>"
   ]
  },
  {
   "cell_type": "markdown",
   "metadata": {},
   "source": [
    "### The purpose of this part is to learn about different Deep Policy Based RL agents.\n",
    "\n",
    "In this part of the assignment you will be implementing Deep Policy based RL algorithms we learnt in Lectures. Namely, we will be implementing REINFORCE and VPG. \n",
    "\n",
    "For all the algorithms below, this time we will not be specifying the hyper-parameters, please play with the hyper-params to come up with the best values. This way you will learn to tune the model. Some of the values were specified in the lecture, that would be a good starting point. "
   ]
  },
  {
   "cell_type": "markdown",
   "metadata": {
    "jp-MarkdownHeadingCollapsed": true
   },
   "source": [
    "## REINFORCE"
   ]
  },
  {
   "cell_type": "markdown",
   "metadata": {},
   "source": [
    "Implement the REINFORCE algorithm. We have studied about REINFORCE algorithm in the Lecture. Use the function definitions (given below).\n",
    "\n",
    "This class implements the REINFORCE Agent, you are required to implement the various methods of this class\n",
    "as outlined below. Note this class is generic and should work with any permissible Gym environment\n",
    "\n",
    "```\n",
    "class REINFORCE():\n",
    "    def __init__(env, seed, gamma, \n",
    "                 optimizerFn,\n",
    "                 optimizerLR,\n",
    "                 MAX_TRAIN_EPISODES, MAX_EVAL_EPISODES,\n",
    "                 explorationStrategyTrainFn, \n",
    "                 explorationStrategyEvalFn)\n",
    "    def initBookKeeping(self)\n",
    "    def performBookKeeping(self, train = True)\n",
    "    def runREINFORCE(self)\n",
    "    def trainAgent(self)\n",
    "    def trainPolicyNetwork(self, experiences)\n",
    "    def evaluateAgent(self)\n",
    "```"
   ]
  },
  {
   "cell_type": "markdown",
   "metadata": {},
   "source": [
    "### Implement the methods for the REINFORCE class below"
   ]
  },
  {
   "cell_type": "code",
   "execution_count": null,
   "metadata": {},
   "outputs": [],
   "source": [
    "# def __init__"
   ]
  },
  {
   "cell_type": "code",
   "execution_count": null,
   "metadata": {},
   "outputs": [],
   "source": [
    "# def initBookKeeping"
   ]
  },
  {
   "cell_type": "code",
   "execution_count": null,
   "metadata": {},
   "outputs": [],
   "source": [
    "# def performBookKeeping"
   ]
  },
  {
   "cell_type": "code",
   "execution_count": null,
   "metadata": {},
   "outputs": [],
   "source": [
    "# def runREINFORCE"
   ]
  },
  {
   "cell_type": "code",
   "execution_count": null,
   "metadata": {},
   "outputs": [],
   "source": [
    "# def trainAgent"
   ]
  },
  {
   "cell_type": "code",
   "execution_count": null,
   "metadata": {},
   "outputs": [],
   "source": [
    "# def trainPolicyNetwork"
   ]
  },
  {
   "cell_type": "code",
   "execution_count": null,
   "metadata": {},
   "outputs": [],
   "source": [
    "# def evaluateAgent"
   ]
  },
  {
   "cell_type": "markdown",
   "metadata": {},
   "source": [
    "## Vanilla Policy Gradient (VPG)"
   ]
  },
  {
   "cell_type": "markdown",
   "metadata": {},
   "source": [
    "Implement the VPG algorithm. We have studied about VPG algorithm in the Lecture. Use the function definitions (given below).\n",
    "\n",
    "This class implements the VPG Agent, you are required to implement the various methods of this class\n",
    "as outlined below. Note this class is generic and should work with any permissible Gym environment\n",
    "\n",
    "```\n",
    "class VPG():\n",
    "    def __init__(env, seed, gamma, beta, \n",
    "                 optimizerFn,\n",
    "                 optimizerLR,\n",
    "                 MAX_TRAIN_EPISODES, MAX_EVAL_EPISODES,\n",
    "                 explorationStrategyTrainFn, \n",
    "                 explorationStrategyEvalFn)\n",
    "    def initBookKeeping(self)\n",
    "    def performBookKeeping(self, train = True)\n",
    "    def runVPG(self)\n",
    "    def trainAgent(self)\n",
    "    def trainPolicyNetwork(self, experiences)\n",
    "    def evaluateAgent(self)\n",
    "```"
   ]
  },
  {
   "cell_type": "code",
   "execution_count": null,
   "metadata": {},
   "outputs": [],
   "source": [
    "# def __init__"
   ]
  },
  {
   "cell_type": "code",
   "execution_count": null,
   "metadata": {},
   "outputs": [],
   "source": [
    "# def initBookKeeping"
   ]
  },
  {
   "cell_type": "code",
   "execution_count": null,
   "metadata": {},
   "outputs": [],
   "source": [
    "# def performBookKeeping"
   ]
  },
  {
   "cell_type": "code",
   "execution_count": null,
   "metadata": {},
   "outputs": [],
   "source": [
    "# def runVPG"
   ]
  },
  {
   "cell_type": "code",
   "execution_count": null,
   "metadata": {},
   "outputs": [],
   "source": [
    "# def trainAgent"
   ]
  },
  {
   "cell_type": "code",
   "execution_count": null,
   "metadata": {},
   "outputs": [],
   "source": [
    "# def trainPolicyNetwork"
   ]
  },
  {
   "cell_type": "code",
   "execution_count": null,
   "metadata": {},
   "outputs": [],
   "source": [
    "# def evaluateAgent"
   ]
  },
  {
   "cell_type": "markdown",
   "metadata": {},
   "source": [
    "# Experiments and Plots\n",
    "<a id=\"experiments\"></a>"
   ]
  },
  {
   "cell_type": "markdown",
   "metadata": {},
   "source": [
    "Run the NFQ, DQN, Double DQN, Dueling Double DQN, Dueling Double Deep Q Network with Prioritized Experience Replay, REINFORCE and VPG agent on CartPole environment and MountainCar enviroment.\n",
    "\n",
    "Plot the following for each of the environment separately. Note based on different hyper-parameters and stratgies you use, can you have multiple plots for each of the below. \n",
    "\n",
    "As you are aware from your past experience, single run of the agent over the environment results in plots that have lot of variance and look very noisy. One way to overcome this is to create several different instances of the environment using different seeds and then average out the results across these and plot these. For all the plots below, you this strategy. You need to run 5 different instances of the environment for each agent. As you have seen in the lecture slides, we plot the maximum and minimum values around the mean in the plots, so this gives us the shaded plot with the mean curve in the between. In this assignment, you are required to do the same. Generate plots with envelop between maximum and minimum value (check the plotQuantity() function in the helper functions).\n",
    "\n",
    "For each of the quantity of interest, plot each of the agent within the same plot using different colors for the envelop. Choose colors such that that there is clear contrast between the plots corresponding to different agents.\n",
    "\n",
    "1. Plot mean train rewards vs episodes for Cartpole environment.\n",
    "2. Plot mean train rewards vs episodes for MountatinCar environment.\n",
    "3. Plot mean evaluation rewards vs episodes \n",
    "4. Plot mean evaluation rewards vs episodes \n",
    "5. Plot total steps vs episode for Cartpole environment.\n",
    "6. Plot total steps vs episode for MountatinCar environment.\n",
    "7. Plot train time vs episode for Cartpole environment.\n",
    "8. Plot train time vs episode for MountatinCar environment.\n",
    "9. Plot wall clock time vs episode for Cartpole environment.\n",
    "10. Plot wall clock time vs episode for MountatinCar environment.\n",
    "11. Based on plots for CartPole environment, what are your observations about different agents. Compare different agents.  \n",
    "12. Based on plots for MountainCar environment, what are your observations about different agents. Compare different agents. Do these observations concur with the ones for CartPole environment? \n",
    "13. Based on both the environments, can you generalize some of the findings for the value-based agents? If yes what are those findings?"
   ]
  },
  {
   "cell_type": "code",
   "execution_count": null,
   "metadata": {},
   "outputs": [],
   "source": [
    "def runDeepValueBasedAgents():\n",
    "    # this function will initialize 5 different instances of the env (using different seeds), run all the agents\n",
    "    # over these different instances. Collects results and generate the plots state above.\n",
    "    # generate your plots in the cells below\n",
    "    # write the answers to part 11, 12 and 13 in the cells below the plot-cells."
   ]
  },
  {
   "cell_type": "code",
   "execution_count": null,
   "metadata": {},
   "outputs": [],
   "source": [
    "def runDeepPolicyBasedAgents():\n",
    "    # this function will initialize 5 different instances of the env (using different seeds), run all the agents\n",
    "    # over these different instances. Collects results and generate the plots state above.\n",
    "    # generate your plots in the cells below\n",
    "    # write the answers to part 11, 12 and 13 in the cells below the plot-cells. "
   ]
  },
  {
   "cell_type": "markdown",
   "metadata": {},
   "source": []
  },
  {
   "cell_type": "markdown",
   "metadata": {},
   "source": []
  }
 ],
 "metadata": {
  "kernelspec": {
   "display_name": "Python 3 (ipykernel)",
   "language": "python",
   "name": "python3"
  },
  "language_info": {
   "codemirror_mode": {
    "name": "ipython",
    "version": 3
   },
   "file_extension": ".py",
   "mimetype": "text/x-python",
   "name": "python",
   "nbconvert_exporter": "python",
   "pygments_lexer": "ipython3",
   "version": "3.9.6"
  }
 },
 "nbformat": 4,
 "nbformat_minor": 4
}
